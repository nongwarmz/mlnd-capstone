{
 "cells": [
  {
   "cell_type": "code",
   "execution_count": 106,
   "metadata": {},
   "outputs": [],
   "source": [
    "import numpy as np\n",
    "import pandas as pd\n",
    "import matplotlib.pyplot as plt\n",
    "import seaborn as sns\n",
    "import math\n",
    "import time"
   ]
  },
  {
   "cell_type": "markdown",
   "metadata": {},
   "source": [
    "# Read data file and some glimpse on the raw data"
   ]
  },
  {
   "cell_type": "code",
   "execution_count": 107,
   "metadata": {
    "scrolled": true
   },
   "outputs": [
    {
     "name": "stdout",
     "output_type": "stream",
     "text": [
      "Are ther any Nan value?:\n",
      " Strain    False\n",
      "Stress    False\n",
      "Temp      False\n",
      "Rate      False\n",
      "dtype: bool\n"
     ]
    },
    {
     "data": {
      "text/html": [
       "<div>\n",
       "<style scoped>\n",
       "    .dataframe tbody tr th:only-of-type {\n",
       "        vertical-align: middle;\n",
       "    }\n",
       "\n",
       "    .dataframe tbody tr th {\n",
       "        vertical-align: top;\n",
       "    }\n",
       "\n",
       "    .dataframe thead th {\n",
       "        text-align: right;\n",
       "    }\n",
       "</style>\n",
       "<table border=\"1\" class=\"dataframe\">\n",
       "  <thead>\n",
       "    <tr style=\"text-align: right;\">\n",
       "      <th></th>\n",
       "      <th>Strain</th>\n",
       "      <th>Stress</th>\n",
       "      <th>Temp</th>\n",
       "      <th>Rate</th>\n",
       "    </tr>\n",
       "  </thead>\n",
       "  <tbody>\n",
       "    <tr>\n",
       "      <th>0</th>\n",
       "      <td>0.000007</td>\n",
       "      <td>132.9130</td>\n",
       "      <td>293.0</td>\n",
       "      <td>0.000278</td>\n",
       "    </tr>\n",
       "    <tr>\n",
       "      <th>1</th>\n",
       "      <td>0.000009</td>\n",
       "      <td>138.4701</td>\n",
       "      <td>293.0</td>\n",
       "      <td>0.000278</td>\n",
       "    </tr>\n",
       "    <tr>\n",
       "      <th>2</th>\n",
       "      <td>0.000010</td>\n",
       "      <td>143.5298</td>\n",
       "      <td>293.0</td>\n",
       "      <td>0.000278</td>\n",
       "    </tr>\n",
       "    <tr>\n",
       "      <th>3</th>\n",
       "      <td>0.000010</td>\n",
       "      <td>149.0209</td>\n",
       "      <td>293.0</td>\n",
       "      <td>0.000278</td>\n",
       "    </tr>\n",
       "    <tr>\n",
       "      <th>4</th>\n",
       "      <td>0.000017</td>\n",
       "      <td>153.6092</td>\n",
       "      <td>293.0</td>\n",
       "      <td>0.000278</td>\n",
       "    </tr>\n",
       "  </tbody>\n",
       "</table>\n",
       "</div>"
      ],
      "text/plain": [
       "     Strain    Stress   Temp      Rate\n",
       "0  0.000007  132.9130  293.0  0.000278\n",
       "1  0.000009  138.4701  293.0  0.000278\n",
       "2  0.000010  143.5298  293.0  0.000278\n",
       "3  0.000010  149.0209  293.0  0.000278\n",
       "4  0.000017  153.6092  293.0  0.000278"
      ]
     },
     "execution_count": 107,
     "metadata": {},
     "output_type": "execute_result"
    }
   ],
   "source": [
    "filename = \"FC_all.csv\"\n",
    "df = pd.read_csv(filename, header=0, sep=',', dtype=np.float)\n",
    "print('Are ther any Nan value?:\\n', np.isnan(df).any())\n",
    "df.head()\n"
   ]
  },
  {
   "cell_type": "markdown",
   "metadata": {},
   "source": [
    "The data mentioned above is the raw data which includes all the flow curves in one data. First of all, it should be splitted into on dataframe per one flow curve for the later analysis."
   ]
  },
  {
   "cell_type": "markdown",
   "metadata": {},
   "source": [
    "## Splitting flow curves"
   ]
  },
  {
   "cell_type": "code",
   "execution_count": 108,
   "metadata": {},
   "outputs": [
    {
     "data": {
      "text/html": [
       "<div>\n",
       "<style scoped>\n",
       "    .dataframe tbody tr th:only-of-type {\n",
       "        vertical-align: middle;\n",
       "    }\n",
       "\n",
       "    .dataframe tbody tr th {\n",
       "        vertical-align: top;\n",
       "    }\n",
       "\n",
       "    .dataframe thead th {\n",
       "        text-align: right;\n",
       "    }\n",
       "</style>\n",
       "<table border=\"1\" class=\"dataframe\">\n",
       "  <thead>\n",
       "    <tr style=\"text-align: right;\">\n",
       "      <th></th>\n",
       "      <th>Strain</th>\n",
       "      <th>Stress</th>\n",
       "      <th>Temp</th>\n",
       "      <th>Rate</th>\n",
       "    </tr>\n",
       "  </thead>\n",
       "  <tbody>\n",
       "    <tr>\n",
       "      <th>0</th>\n",
       "      <td>0.000007</td>\n",
       "      <td>132.9130</td>\n",
       "      <td>293.0</td>\n",
       "      <td>0.000278</td>\n",
       "    </tr>\n",
       "    <tr>\n",
       "      <th>1</th>\n",
       "      <td>0.000009</td>\n",
       "      <td>138.4701</td>\n",
       "      <td>293.0</td>\n",
       "      <td>0.000278</td>\n",
       "    </tr>\n",
       "    <tr>\n",
       "      <th>2</th>\n",
       "      <td>0.000010</td>\n",
       "      <td>143.5298</td>\n",
       "      <td>293.0</td>\n",
       "      <td>0.000278</td>\n",
       "    </tr>\n",
       "    <tr>\n",
       "      <th>3</th>\n",
       "      <td>0.000010</td>\n",
       "      <td>149.0209</td>\n",
       "      <td>293.0</td>\n",
       "      <td>0.000278</td>\n",
       "    </tr>\n",
       "    <tr>\n",
       "      <th>4</th>\n",
       "      <td>0.000017</td>\n",
       "      <td>153.6092</td>\n",
       "      <td>293.0</td>\n",
       "      <td>0.000278</td>\n",
       "    </tr>\n",
       "  </tbody>\n",
       "</table>\n",
       "</div>"
      ],
      "text/plain": [
       "     Strain    Stress   Temp      Rate\n",
       "0  0.000007  132.9130  293.0  0.000278\n",
       "1  0.000009  138.4701  293.0  0.000278\n",
       "2  0.000010  143.5298  293.0  0.000278\n",
       "3  0.000010  149.0209  293.0  0.000278\n",
       "4  0.000017  153.6092  293.0  0.000278"
      ]
     },
     "execution_count": 108,
     "metadata": {},
     "output_type": "execute_result"
    }
   ],
   "source": [
    "# Flow curve in normal environment; room temperature/quasi-static loading\n",
    "df_QSRT = df[(df['Temp']==293.0) & (df['Rate']==0.000278)]\n",
    "df_QSRT.head()"
   ]
  },
  {
   "cell_type": "code",
   "execution_count": 109,
   "metadata": {},
   "outputs": [
    {
     "data": {
      "text/plain": [
       "(100, 550)"
      ]
     },
     "execution_count": 109,
     "metadata": {},
     "output_type": "execute_result"
    },
    {
     "data": {
      "image/png": "[encoded data removed]",
      "text/plain": [
       "<Figure size 432x288 with 1 Axes>"
      ]
     },
     "metadata": {},
     "output_type": "display_data"
    }
   ],
   "source": [
    "%matplotlib inline\n",
    "\n",
    "df_QSRT.plot(x='Strain', y='Stress', color='blue')\n",
    "\n",
    "ax = plt.gca()\n",
    "ax.legend_ = None\n",
    "plt.xlabel('True strain, -')    #Name x label\n",
    "plt.ylabel('True stress, MPa')    #Name y label\n",
    "plt.title('Flow curve at RT and QS')    #Title name\n",
    "plt.xlim(xmin=0, xmax=0.25) # x-axis range\n",
    "#plt.xticks(np.linspace(0,0.2,5)) # x-axis range\n",
    "plt.ylim(ymin=100, ymax=550) # y-axis range"
   ]
  },
  {
   "cell_type": "code",
   "execution_count": 110,
   "metadata": {},
   "outputs": [
    {
     "data": {
      "text/plain": [
       "(100, 550)"
      ]
     },
     "execution_count": 110,
     "metadata": {},
     "output_type": "execute_result"
    },
    {
     "data": {
      "image/png": "[encoded data removed]",
      "text/plain": [
       "<Figure size 432x288 with 1 Axes>"
      ]
     },
     "metadata": {},
     "output_type": "display_data"
    }
   ],
   "source": [
    "# Flow curve in different temperatures\n",
    "df_293K = df[(df['Temp']==293.0) & (df['Rate']==0.000278)]\n",
    "df_373K = df[(df['Temp']==373.0) & (df['Rate']==0.000278)]\n",
    "df_473K = df[(df['Temp']==473.0) & (df['Rate']==0.000278)]\n",
    "df_573K = df[(df['Temp']==573.0) & (df['Rate']==0.000278)]\n",
    "df_673K = df[(df['Temp']==673.0) & (df['Rate']==0.000278)]\n",
    "\n",
    "plt.plot(df_293K['Strain'], df_293K['Stress'], label='293 K', color='blue', alpha=1.0)\n",
    "plt.plot(df_373K['Strain'], df_373K['Stress'], label='373 K', color='blue', alpha=0.6)\n",
    "plt.plot(df_473K['Strain'], df_473K['Stress'], label='473 K', color='blue', alpha=0.4)\n",
    "plt.plot(df_573K['Strain'], df_573K['Stress'], label='573 K', color='blue', alpha=0.3)\n",
    "plt.plot(df_673K['Strain'], df_673K['Stress'], label='673 K', color='blue', alpha=0.2)\n",
    "\n",
    "plt.xlabel('True strain, -')    #Name x label\n",
    "plt.ylabel('True stress, MPa')    #Name y label\n",
    "plt.title('Flow curves at elevated temperatures')    #Title name\n",
    "plt.legend(loc=4)\n",
    "plt.xlim(xmin=0, xmax=0.25) # x-axis range\n",
    "#plt.xticks(np.linspace(0,0.2,5)) # x-axis range\n",
    "plt.ylim(ymin=100, ymax=550) # y-axis range"
   ]
  },
  {
   "cell_type": "code",
   "execution_count": 111,
   "metadata": {
    "scrolled": false
   },
   "outputs": [
    {
     "data": {
      "text/plain": [
       "(100, 550)"
      ]
     },
     "execution_count": 111,
     "metadata": {},
     "output_type": "execute_result"
    },
    {
     "data": {
      "image/png": "[encoded data removed]",
      "text/plain": [
       "<Figure size 432x288 with 1 Axes>"
      ]
     },
     "metadata": {},
     "output_type": "display_data"
    }
   ],
   "source": [
    "# Flow curves in different strain rates, adiabatic condition\n",
    "df_e4 = df[df['Rate']==0.0001]\n",
    "df_QS = df[(df['Rate']==0.000278) & (df['Temp']==293.0)]\n",
    "df_e3 = df[df['Rate']==0.001]\n",
    "df_e2 = df[(df['Rate']==0.01) & (df['Temp']!=293.0) & (df['Temp']!=373.0)]\n",
    "df_e1 = df[(df['Rate']==0.1) & (df['Temp']!=293.0)]\n",
    "\n",
    "plt.plot(df_e4['Strain'], df_e4['Stress'], label='1 x 10$^{-4}$ s$^{-1}$', color='blue', alpha=1.0)\n",
    "plt.plot(df_QS['Strain'], df_QS['Stress'], label='2.78 x 10$^{-4}$ s$^{-1}$', color='blue', alpha=0.6)\n",
    "plt.plot(df_e3['Strain'], df_e3['Stress'], label='1 x 10$^{-3}$ s$^{-1}$', color='blue', alpha=0.4)\n",
    "plt.plot(df_e2['Strain'], df_e2['Stress'], label='1 x 10$^{-2}$ s$^{-1}$', color='blue', alpha=0.3)\n",
    "plt.plot(df_e1['Strain'], df_e1['Stress'], label='1 x 10$^{-1}$ s$^{-1}$', color='blue', alpha=0.2)\n",
    "\n",
    "plt.xlabel('True strain, -')    #Name x label\n",
    "plt.ylabel('True stress, MPa')    #Name y label\n",
    "plt.title('Flow curves at different strain rates')    #Title name\n",
    "plt.legend(loc=4)\n",
    "plt.xlim(xmin=0, xmax=0.25) # x-axis range\n",
    "#plt.xticks(np.linspace(0,0.2,5)) # x-axis range\n",
    "plt.ylim(ymin=100, ymax=550) # y-axis range"
   ]
  },
  {
   "cell_type": "markdown",
   "metadata": {},
   "source": [
    "Please be noted that the flow curves at different strain rates above are in adiabatic condition. There is no control in temperature during the tests. Therefore, the temperature of the samples rose higher for the high strain rate tests especially at 1x10$^{-2}$ and 1x10$^{-1}$ s$^{-1}$ strain rates. This information cannot be taken into account for further material's behavior analysis. Thus, they should be corrected into isothermal flow curves which are shown below."
   ]
  },
  {
   "cell_type": "code",
   "execution_count": 112,
   "metadata": {},
   "outputs": [
    {
     "data": {
      "text/plain": [
       "(290, 310)"
      ]
     },
     "execution_count": 112,
     "metadata": {},
     "output_type": "execute_result"
    },
    {
     "data": {
      "image/png": "[encoded data removed]",
      "text/plain": [
       "<Figure size 432x288 with 1 Axes>"
      ]
     },
     "metadata": {},
     "output_type": "display_data"
    }
   ],
   "source": [
    "# plot strain vs. temperature for each high speed test result\n",
    "plt.plot(df_e4['Strain'], df_e4['Temp'], label='1 x 10$^{-4}$ s$^{-1}$', color='blue', alpha=1.0)\n",
    "plt.plot(df_QS['Strain'], df_QS['Temp'], label='2.78 x 10$^{-4}$ s$^{-1}$', color='blue', alpha=0.6)\n",
    "plt.plot(df_e3['Strain'], df_e3['Temp'], label='1 x 10$^{-3}$ s$^{-1}$', color='blue', alpha=0.4)\n",
    "plt.plot(df_e2['Strain'], df_e2['Temp'], label='1 x 10$^{-2}$ s$^{-1}$', color='blue', alpha=0.3)\n",
    "plt.plot(df_e1['Strain'], df_e1['Temp'], label='1 x 10$^{-1}$ s$^{-1}$', color='blue', alpha=0.2)\n",
    "\n",
    "plt.xlabel('True strain, -')    #Name x label\n",
    "plt.ylabel('Temperature, K')    #Name y label\n",
    "plt.title('Strain vs. Temperature at different strain rates')    #Title name\n",
    "plt.legend(loc=4)\n",
    "plt.xlim(xmin=0, xmax=0.25) # x-axis range\n",
    "#plt.xticks(np.linspace(0,0.2,5)) # x-axis range\n",
    "plt.ylim(ymin=290, ymax=310) # y-axis range"
   ]
  },
  {
   "cell_type": "code",
   "execution_count": 113,
   "metadata": {},
   "outputs": [
    {
     "data": {
      "text/plain": [
       "(100, 550)"
      ]
     },
     "execution_count": 113,
     "metadata": {},
     "output_type": "execute_result"
    },
    {
     "data": {
      "image/png": "[encoded data removed]",
      "text/plain": [
       "<Figure size 432x288 with 1 Axes>"
      ]
     },
     "metadata": {},
     "output_type": "display_data"
    }
   ],
   "source": [
    "# Flow curve in isothermal conditions\n",
    "\n",
    "df_e2_iso = df[(df['Rate']==0.01) & (df['Temp']==293.0) & (df['Strain']>0.0022)]\n",
    "df_e1_iso = df[(df['Rate']==0.1) & (df['Temp']==293.0) & (df['Strain']>0.0007)]\n",
    "df_e2_373K = df[(df['Rate']==0.01) & (df['Temp']==373.0)]\n",
    "\n",
    "\n",
    "plt.plot(df_e2_iso['Strain'], df_e2_iso['Stress'], label='1 x 10$^{-2}$ s$^{-1}$, 293 K, isothermal', color='blue', alpha=0.2)\n",
    "plt.plot(df_e1_iso['Strain'], df_e1_iso['Stress'], label='1 x 10$^{-1}$ s$^{-1}$, 293 K, isothermal', color='blue', alpha=1.0)\n",
    "\n",
    "plt.xlabel('True strain, -')    #Name x label\n",
    "plt.ylabel('True stress, MPa')    #Name y label\n",
    "plt.title('Stress-Strain curve at isothermal condition at diff. strain rates and temperatures')    #Title name\n",
    "plt.legend(loc=4)\n",
    "plt.xlim(xmin=0, xmax=0.25) # x-axis range\n",
    "#plt.xticks(np.linspace(0,0.2,5)) # x-axis range\n",
    "plt.ylim(ymin=100, ymax=550) # y-axis range"
   ]
  },
  {
   "cell_type": "code",
   "execution_count": 114,
   "metadata": {},
   "outputs": [],
   "source": [
    "# Put all flow curves as list\n",
    "flows = {'QSRT': df_QSRT,\n",
    "         '373K': df_373K, \n",
    "         '473K': df_473K,\n",
    "         '573K': df_573K,\n",
    "         '673K': df_673K,\n",
    "         'e4': df_e4,\n",
    "         'e3': df_e3,\n",
    "         'e2': df_e2,\n",
    "         'e1': df_e1,\n",
    "         'e2_iso': df_e2_iso,\n",
    "         'e1_iso': df_e1_iso,\n",
    "         'e2_373K': df_e2_373K}"
   ]
  },
  {
   "cell_type": "code",
   "execution_count": 115,
   "metadata": {},
   "outputs": [
    {
     "data": {
      "text/plain": [
       "(100, 550)"
      ]
     },
     "execution_count": 115,
     "metadata": {},
     "output_type": "execute_result"
    },
    {
     "data": {
      "image/png": "[encoded data removed]",
      "text/plain": [
       "<Figure size 1008x360 with 2 Axes>"
      ]
     },
     "metadata": {},
     "output_type": "display_data"
    }
   ],
   "source": [
    "# compare isothermal flow curves and adiabatic flow curves\n",
    "plt.figure(figsize=(14,5))\n",
    "plt.subplot(1,2,1)\n",
    "plt.plot(df_e2['Strain'], df_e2['Stress'], label='1 x 10$^{-2}$ s$^{-1}$, 293 K, adiabatic', color='blue', alpha=1.0)\n",
    "plt.plot(df_e2_iso['Strain'], df_e2_iso['Stress'], label='1 x 10$^{-2}$ s$^{-1}$, 293 K, isothermal', color='red', alpha=1.0)\n",
    "plt.legend(loc=4)\n",
    "plt.xlabel('True strain, -')    #Name x label\n",
    "plt.ylabel('True stress, MPa')    #Name y label\n",
    "plt.xlim(xmin=0, xmax=0.25) # x-axis range\n",
    "#plt.xticks(np.linspace(0,0.2,5)) # x-axis range\n",
    "plt.ylim(ymin=100, ymax=550) # y-axis range\n",
    "\n",
    "plt.subplot(1,2,2)\n",
    "plt.plot(df_e1['Strain'], df_e1['Stress'], label='1 x 10$^{-1}$ s$^{-1}$, 293 K, adiabatic', color='blue', alpha=1.0)\n",
    "plt.plot(df_e1_iso['Strain'], df_e1_iso['Stress'], label='1 x 10$^{-1}$ s$^{-1}$, 293 K, isothermal', color='red', alpha=1.0)\n",
    "plt.xlabel('True strain, -')    #Name x label\n",
    "plt.ylabel('True stress, MPa')    #Name y label\n",
    "plt.legend(loc=4)\n",
    "plt.xlim(xmin=0, xmax=0.25) # x-axis range\n",
    "#plt.xticks(np.linspace(0,0.2,5)) # x-axis range\n",
    "plt.ylim(ymin=100, ymax=550) # y-axis range\n"
   ]
  },
  {
   "cell_type": "markdown",
   "metadata": {},
   "source": [
    "One can notice that the flow curves in isothermal condition are higher than the ones in adiabatic condition. It is straightforward once we have a look at the flow curves in the different temperatures. If temperature inside the sample becomes higher, the material becomes softer. As the high strain rate test is a fast process, there is no time for the material to dissipate the heat generated to the ambient. Thus, the internal temperature rises higher."
   ]
  },
  {
   "cell_type": "markdown",
   "metadata": {},
   "source": [
    "# Preprocessing"
   ]
  },
  {
   "cell_type": "markdown",
   "metadata": {},
   "source": [
    "It is a good idea to modify a little bit on the raw data to obtain a better result. It is planned to preprocess as follows:\n",
    "- apply decadic logarithm to strain and strain rate\n",
    "- apply scaling scheme to avoid ill-conditioned calculation\n",
    "- include features in the previous time step as the current time step's feature"
   ]
  },
  {
   "cell_type": "code",
   "execution_count": 116,
   "metadata": {},
   "outputs": [
    {
     "data": {
      "text/plain": [
       "array(['Stress', 'Temp', 'log_strain', 'log_rate'], dtype=object)"
      ]
     },
     "execution_count": 116,
     "metadata": {},
     "output_type": "execute_result"
    }
   ],
   "source": [
    "# apply decadic log\n",
    "flows_log = {}\n",
    "for key, fc in flows.items():\n",
    "    fc = fc.reset_index(drop=True)\n",
    "    # apply decadic log to strain rates\n",
    "    log_rate = pd.DataFrame(np.log10(fc['Rate'].values))\n",
    "    log_rate.columns = ['log_rate']\n",
    "    # apply decadic log to strain\n",
    "    log_strain = pd.DataFrame(np.log10(fc['Strain'].values))\n",
    "    log_strain.columns = ['log_strain']\n",
    "    fc_log = pd.concat([fc, log_strain, log_rate], axis=1)\n",
    "    fc_log = fc_log.drop(columns=['Strain', 'Rate'])\n",
    "    flows_log[key] = fc_log\n",
    "raw_features = len(flows_log['QSRT'].columns.values)\n",
    "flows_log['QSRT'].columns.values"
   ]
  },
  {
   "cell_type": "code",
   "execution_count": 117,
   "metadata": {
    "scrolled": true
   },
   "outputs": [
    {
     "data": {
      "text/html": [
       "<div>\n",
       "<style scoped>\n",
       "    .dataframe tbody tr th:only-of-type {\n",
       "        vertical-align: middle;\n",
       "    }\n",
       "\n",
       "    .dataframe tbody tr th {\n",
       "        vertical-align: top;\n",
       "    }\n",
       "\n",
       "    .dataframe thead th {\n",
       "        text-align: right;\n",
       "    }\n",
       "</style>\n",
       "<table border=\"1\" class=\"dataframe\">\n",
       "  <thead>\n",
       "    <tr style=\"text-align: right;\">\n",
       "      <th></th>\n",
       "      <th>Stress</th>\n",
       "      <th>Temp</th>\n",
       "      <th>log_strain</th>\n",
       "      <th>log_rate</th>\n",
       "    </tr>\n",
       "  </thead>\n",
       "  <tbody>\n",
       "    <tr>\n",
       "      <th>0</th>\n",
       "      <td>101.782707</td>\n",
       "      <td>373.0</td>\n",
       "      <td>-5.545155</td>\n",
       "      <td>-3.555955</td>\n",
       "    </tr>\n",
       "    <tr>\n",
       "      <th>1</th>\n",
       "      <td>105.151962</td>\n",
       "      <td>373.0</td>\n",
       "      <td>-4.906578</td>\n",
       "      <td>-3.555955</td>\n",
       "    </tr>\n",
       "    <tr>\n",
       "      <th>2</th>\n",
       "      <td>109.145012</td>\n",
       "      <td>373.0</td>\n",
       "      <td>-4.703335</td>\n",
       "      <td>-3.555955</td>\n",
       "    </tr>\n",
       "    <tr>\n",
       "      <th>3</th>\n",
       "      <td>113.392250</td>\n",
       "      <td>373.0</td>\n",
       "      <td>-4.583359</td>\n",
       "      <td>-3.555955</td>\n",
       "    </tr>\n",
       "    <tr>\n",
       "      <th>4</th>\n",
       "      <td>118.894752</td>\n",
       "      <td>373.0</td>\n",
       "      <td>-4.548214</td>\n",
       "      <td>-3.555955</td>\n",
       "    </tr>\n",
       "  </tbody>\n",
       "</table>\n",
       "</div>"
      ],
      "text/plain": [
       "       Stress   Temp  log_strain  log_rate\n",
       "0  101.782707  373.0   -5.545155 -3.555955\n",
       "1  105.151962  373.0   -4.906578 -3.555955\n",
       "2  109.145012  373.0   -4.703335 -3.555955\n",
       "3  113.392250  373.0   -4.583359 -3.555955\n",
       "4  118.894752  373.0   -4.548214 -3.555955"
      ]
     },
     "execution_count": 117,
     "metadata": {},
     "output_type": "execute_result"
    }
   ],
   "source": [
    "flows_log['373K'].head()"
   ]
  },
  {
   "cell_type": "code",
   "execution_count": 118,
   "metadata": {},
   "outputs": [
    {
     "data": {
      "text/html": [
       "<div>\n",
       "<style scoped>\n",
       "    .dataframe tbody tr th:only-of-type {\n",
       "        vertical-align: middle;\n",
       "    }\n",
       "\n",
       "    .dataframe tbody tr th {\n",
       "        vertical-align: top;\n",
       "    }\n",
       "\n",
       "    .dataframe thead th {\n",
       "        text-align: right;\n",
       "    }\n",
       "</style>\n",
       "<table border=\"1\" class=\"dataframe\">\n",
       "  <thead>\n",
       "    <tr style=\"text-align: right;\">\n",
       "      <th></th>\n",
       "      <th>Stress</th>\n",
       "      <th>Temp</th>\n",
       "      <th>log_strain</th>\n",
       "      <th>log_rate</th>\n",
       "    </tr>\n",
       "  </thead>\n",
       "  <tbody>\n",
       "    <tr>\n",
       "      <th>0</th>\n",
       "      <td>0.003241</td>\n",
       "      <td>0.118571</td>\n",
       "      <td>0.549233</td>\n",
       "      <td>0.638989</td>\n",
       "    </tr>\n",
       "    <tr>\n",
       "      <th>1</th>\n",
       "      <td>0.009367</td>\n",
       "      <td>0.118571</td>\n",
       "      <td>0.478280</td>\n",
       "      <td>0.638989</td>\n",
       "    </tr>\n",
       "    <tr>\n",
       "      <th>2</th>\n",
       "      <td>0.016627</td>\n",
       "      <td>0.118571</td>\n",
       "      <td>0.455697</td>\n",
       "      <td>0.638989</td>\n",
       "    </tr>\n",
       "    <tr>\n",
       "      <th>3</th>\n",
       "      <td>0.024350</td>\n",
       "      <td>0.118571</td>\n",
       "      <td>0.442367</td>\n",
       "      <td>0.638989</td>\n",
       "    </tr>\n",
       "    <tr>\n",
       "      <th>4</th>\n",
       "      <td>0.034354</td>\n",
       "      <td>0.118571</td>\n",
       "      <td>0.438462</td>\n",
       "      <td>0.638989</td>\n",
       "    </tr>\n",
       "  </tbody>\n",
       "</table>\n",
       "</div>"
      ],
      "text/plain": [
       "     Stress      Temp  log_strain  log_rate\n",
       "0  0.003241  0.118571    0.549233  0.638989\n",
       "1  0.009367  0.118571    0.478280  0.638989\n",
       "2  0.016627  0.118571    0.455697  0.638989\n",
       "3  0.024350  0.118571    0.442367  0.638989\n",
       "4  0.034354  0.118571    0.438462  0.638989"
      ]
     },
     "execution_count": 118,
     "metadata": {},
     "output_type": "execute_result"
    }
   ],
   "source": [
    "# apply scaling\n",
    "flows_scaled = {}\n",
    "stress_range = np.array([100, 550])\n",
    "temp_range = np.array([290, 700])\n",
    "log_strain_range = [np.log10(0.25), np.log10(1e-9)] # valid only if strain < 1.0\n",
    "log_rate_range = [np.log10(0.1), np.log10(0.0001)] # valid only if rate < 1.0\n",
    "\n",
    "def manual_scaling(feat, range_value):\n",
    "    return (feat - range_value[0])/range_value[1]\n",
    "def manual_descaling(feat, range_value): # inverse of the function above\n",
    "    return feat * range_value[1] + range_value[0]\n",
    "\n",
    "for key, fc in flows_log.items():\n",
    "    fc['Stress'] = manual_scaling(fc['Stress'], stress_range)\n",
    "    fc['Temp'] = manual_scaling(fc['Temp'], temp_range)\n",
    "    fc['log_strain'] = manual_scaling(fc['log_strain'], log_strain_range)\n",
    "    fc['log_rate'] = manual_scaling(fc['log_rate'], log_rate_range)\n",
    "    flows_scaled[key] = fc\n",
    "flows_scaled['373K'].head()"
   ]
  },
  {
   "cell_type": "code",
   "execution_count": 119,
   "metadata": {
    "scrolled": true
   },
   "outputs": [
    {
     "name": "stdout",
     "output_type": "stream",
     "text": [
      "['Stress(t)', 'Temp(t)', 'log_strain(t)', 'log_rate(t)', 'Stress(t-1)', 'Temp(t-1)', 'log_strain(t-1)', 'log_rate(t-1)', 'Stress(t-2)', 'Temp(t-2)', 'log_strain(t-2)', 'log_rate(t-2)']\n"
     ]
    },
    {
     "data": {
      "text/html": [
       "<div>\n",
       "<style scoped>\n",
       "    .dataframe tbody tr th:only-of-type {\n",
       "        vertical-align: middle;\n",
       "    }\n",
       "\n",
       "    .dataframe tbody tr th {\n",
       "        vertical-align: top;\n",
       "    }\n",
       "\n",
       "    .dataframe thead th {\n",
       "        text-align: right;\n",
       "    }\n",
       "</style>\n",
       "<table border=\"1\" class=\"dataframe\">\n",
       "  <thead>\n",
       "    <tr style=\"text-align: right;\">\n",
       "      <th></th>\n",
       "      <th>Stress(t)</th>\n",
       "      <th>Temp(t)</th>\n",
       "      <th>log_strain(t)</th>\n",
       "      <th>log_rate(t)</th>\n",
       "      <th>Stress(t-1)</th>\n",
       "      <th>Temp(t-1)</th>\n",
       "      <th>log_strain(t-1)</th>\n",
       "      <th>log_rate(t-1)</th>\n",
       "      <th>Stress(t-2)</th>\n",
       "      <th>Temp(t-2)</th>\n",
       "      <th>log_strain(t-2)</th>\n",
       "      <th>log_rate(t-2)</th>\n",
       "    </tr>\n",
       "  </thead>\n",
       "  <tbody>\n",
       "    <tr>\n",
       "      <th>2</th>\n",
       "      <td>0.016627</td>\n",
       "      <td>0.118571</td>\n",
       "      <td>0.455697</td>\n",
       "      <td>0.638989</td>\n",
       "      <td>0.009367</td>\n",
       "      <td>0.118571</td>\n",
       "      <td>0.478280</td>\n",
       "      <td>0.638989</td>\n",
       "      <td>0.003241</td>\n",
       "      <td>0.118571</td>\n",
       "      <td>0.549233</td>\n",
       "      <td>0.638989</td>\n",
       "    </tr>\n",
       "    <tr>\n",
       "      <th>3</th>\n",
       "      <td>0.024350</td>\n",
       "      <td>0.118571</td>\n",
       "      <td>0.442367</td>\n",
       "      <td>0.638989</td>\n",
       "      <td>0.016627</td>\n",
       "      <td>0.118571</td>\n",
       "      <td>0.455697</td>\n",
       "      <td>0.638989</td>\n",
       "      <td>0.009367</td>\n",
       "      <td>0.118571</td>\n",
       "      <td>0.478280</td>\n",
       "      <td>0.638989</td>\n",
       "    </tr>\n",
       "    <tr>\n",
       "      <th>4</th>\n",
       "      <td>0.034354</td>\n",
       "      <td>0.118571</td>\n",
       "      <td>0.438462</td>\n",
       "      <td>0.638989</td>\n",
       "      <td>0.024350</td>\n",
       "      <td>0.118571</td>\n",
       "      <td>0.442367</td>\n",
       "      <td>0.638989</td>\n",
       "      <td>0.016627</td>\n",
       "      <td>0.118571</td>\n",
       "      <td>0.455697</td>\n",
       "      <td>0.638989</td>\n",
       "    </tr>\n",
       "    <tr>\n",
       "      <th>5</th>\n",
       "      <td>0.043421</td>\n",
       "      <td>0.118571</td>\n",
       "      <td>0.432082</td>\n",
       "      <td>0.638989</td>\n",
       "      <td>0.034354</td>\n",
       "      <td>0.118571</td>\n",
       "      <td>0.438462</td>\n",
       "      <td>0.638989</td>\n",
       "      <td>0.024350</td>\n",
       "      <td>0.118571</td>\n",
       "      <td>0.442367</td>\n",
       "      <td>0.638989</td>\n",
       "    </tr>\n",
       "    <tr>\n",
       "      <th>6</th>\n",
       "      <td>0.051994</td>\n",
       "      <td>0.118571</td>\n",
       "      <td>0.425526</td>\n",
       "      <td>0.638989</td>\n",
       "      <td>0.043421</td>\n",
       "      <td>0.118571</td>\n",
       "      <td>0.432082</td>\n",
       "      <td>0.638989</td>\n",
       "      <td>0.034354</td>\n",
       "      <td>0.118571</td>\n",
       "      <td>0.438462</td>\n",
       "      <td>0.638989</td>\n",
       "    </tr>\n",
       "  </tbody>\n",
       "</table>\n",
       "</div>"
      ],
      "text/plain": [
       "   Stress(t)   Temp(t)  log_strain(t)  log_rate(t)  Stress(t-1)  Temp(t-1)  \\\n",
       "2   0.016627  0.118571       0.455697     0.638989     0.009367   0.118571   \n",
       "3   0.024350  0.118571       0.442367     0.638989     0.016627   0.118571   \n",
       "4   0.034354  0.118571       0.438462     0.638989     0.024350   0.118571   \n",
       "5   0.043421  0.118571       0.432082     0.638989     0.034354   0.118571   \n",
       "6   0.051994  0.118571       0.425526     0.638989     0.043421   0.118571   \n",
       "\n",
       "   log_strain(t-1)  log_rate(t-1)  Stress(t-2)  Temp(t-2)  log_strain(t-2)  \\\n",
       "2         0.478280       0.638989     0.003241   0.118571         0.549233   \n",
       "3         0.455697       0.638989     0.009367   0.118571         0.478280   \n",
       "4         0.442367       0.638989     0.016627   0.118571         0.455697   \n",
       "5         0.438462       0.638989     0.024350   0.118571         0.442367   \n",
       "6         0.432082       0.638989     0.034354   0.118571         0.438462   \n",
       "\n",
       "   log_rate(t-2)  \n",
       "2       0.638989  \n",
       "3       0.638989  \n",
       "4       0.638989  \n",
       "5       0.638989  \n",
       "6       0.638989  "
      ]
     },
     "execution_count": 119,
     "metadata": {},
     "output_type": "execute_result"
    }
   ],
   "source": [
    "# apply window shifting\n",
    "flows_shifted = {}\n",
    "windows = 2\n",
    "if windows > 0:\n",
    "    ori_cols = flows_scaled['QSRT'].columns\n",
    "    cols = [c + '(t)' for c in ori_cols]\n",
    "    for w in range(1, windows+1):\n",
    "        for c in ori_cols:\n",
    "            cols.append(c+'(t-{})'.format(w))\n",
    "\n",
    "    for key, fc in flows_scaled.items():\n",
    "        shifted = pd.DataFrame({'':[]})\n",
    "        for w in range(0, windows):\n",
    "            sh = fc.shift(w+1)\n",
    "            shifted = pd.concat([shifted, sh], axis=1)\n",
    "        fc = pd.concat([fc,shifted], axis=1)\n",
    "        fc = fc.drop(columns='')\n",
    "        fc = fc.dropna()\n",
    "        fc.columns = cols\n",
    "        flows_shifted[key] = fc\n",
    "else:\n",
    "    flows_shifted = flows_scaled\n",
    "    cols = flows_shifted['QSRT'].columns.values\n",
    "print(cols)\n",
    "flows_shifted['373K'].head(windows+3)"
   ]
  },
  {
   "cell_type": "code",
   "execution_count": 120,
   "metadata": {
    "scrolled": true
   },
   "outputs": [
    {
     "name": "stdout",
     "output_type": "stream",
     "text": [
      "Shape of dataframe QSRT: (5304, 12)\n",
      "Shape of dataframe 373K: (1337, 12)\n",
      "Shape of dataframe 473K: (2008, 12)\n",
      "Shape of dataframe 573K: (1182, 12)\n",
      "Shape of dataframe 673K: (953, 12)\n",
      "Shape of dataframe e4: (1372, 12)\n",
      "Shape of dataframe e3: (1237, 12)\n",
      "Shape of dataframe e2: (1916, 12)\n",
      "Shape of dataframe e1: (1903, 12)\n",
      "Shape of dataframe e2_iso: (1915, 12)\n",
      "Shape of dataframe e1_iso: (1902, 12)\n",
      "Shape of dataframe e2_373K: (1010, 12)\n"
     ]
    }
   ],
   "source": [
    "for key, fc in flows_shifted.items():\n",
    "    print('Shape of dataframe {}: {}'.format(key, fc.shape))"
   ]
  },
  {
   "cell_type": "markdown",
   "metadata": {},
   "source": [
    "## Decompose train and test set"
   ]
  },
  {
   "cell_type": "code",
   "execution_count": 121,
   "metadata": {},
   "outputs": [],
   "source": [
    "test_set_name = ['e2_iso', 'e1_iso', 'e2_373K']\n",
    "train_set = []\n",
    "test_set = []\n",
    "for key, fc in flows_shifted.items():\n",
    "    if key in test_set_name:\n",
    "        test_set.append(fc)\n",
    "    else:\n",
    "        train_set.append(fc)\n",
    "df_train = pd.concat(train_set)"
   ]
  },
  {
   "cell_type": "markdown",
   "metadata": {},
   "source": [
    "## Decompose label and feature"
   ]
  },
  {
   "cell_type": "code",
   "execution_count": 122,
   "metadata": {
    "scrolled": true
   },
   "outputs": [
    {
     "name": "stdout",
     "output_type": "stream",
     "text": [
      "Original columns: \n",
      "\n",
      " ['Stress(t)', 'Temp(t)', 'log_strain(t)', 'log_rate(t)', 'Stress(t-1)', 'Temp(t-1)', 'log_strain(t-1)', 'log_rate(t-1)', 'Stress(t-2)', 'Temp(t-2)', 'log_strain(t-2)', 'log_rate(t-2)'] \n",
      "\n",
      "Label column... Stress(t) \n",
      "\n",
      "Ignore columns... [] \n",
      "\n",
      "X_train shape: (17212, 11)\n",
      "y_train shape: (17212,)\n",
      "X_test shape for set e2_iso (1915, 11)\n",
      "y_test shape for set e2_iso (1915,)\n",
      "X_test shape for set e1_iso (1902, 11)\n",
      "y_test shape for set e1_iso (1902,)\n",
      "X_test shape for set e2_373K (1010, 11)\n",
      "y_test shape for set e2_373K (1010,)\n"
     ]
    }
   ],
   "source": [
    "if windows == 0:\n",
    "    lbl_name = 'Stress'\n",
    "else:\n",
    "    lbl_name = 'Stress(t)'\n",
    "\n",
    "ignore_cols = ['Stress(t-'+str(w)+')' if (w>0) else '' for w in range(1, windows+1)] \n",
    "# including stress into training yield too good result. Let's ignore it somehow.    \n",
    "# ignore_cols = []\n",
    "\n",
    "def decomp_label_feat(df, lbl_col, ignore_cols=[]):\n",
    "    label = pd.DataFrame(df[lbl_col])\n",
    "    ignore_cols.append(lbl_col)\n",
    "    feat = df.drop(columns=ignore_cols)\n",
    "    return feat.values, label.values.ravel()\n",
    "def restore_strain(log_strain_col, range_value):\n",
    "    log_strain = manual_descaling(log_strain_col, log_strain_range)\n",
    "    return 10**log_strain\n",
    "    \n",
    "print('Original columns: \\n\\n',cols,'\\n')\n",
    "print('Label column...', lbl_name, '\\n')\n",
    "print('Ignore columns...', ignore_cols, '\\n')\n",
    "\n",
    "\n",
    "X_train, y_train = decomp_label_feat(df_train, lbl_name, ignore_cols)\n",
    "print('X_train shape:', X_train.shape)\n",
    "print('y_train shape:', y_train.shape)\n",
    "\n",
    "X_test = {}\n",
    "y_test = {}\n",
    "for ii, df_test in enumerate(test_set):\n",
    "    X_test[test_set_name[ii]], y_test[test_set_name[ii]] = decomp_label_feat(df_test, lbl_name, ignore_cols)\n",
    "    print('X_test shape for set ' + test_set_name[ii], X_test[test_set_name[ii]].shape)\n",
    "    print('y_test shape for set ' + test_set_name[ii], y_test[test_set_name[ii]].shape)\n"
   ]
  },
  {
   "cell_type": "markdown",
   "metadata": {},
   "source": [
    "# Start modeling"
   ]
  },
  {
   "cell_type": "markdown",
   "metadata": {},
   "source": [
    "## SVR"
   ]
  },
  {
   "cell_type": "code",
   "execution_count": 18,
   "metadata": {},
   "outputs": [],
   "source": [
    "from sklearn.svm import SVR\n",
    "from sklearn.model_selection import RandomizedSearchCV\n",
    "from sklearn.metrics import mean_squared_error\n",
    "from sklearn.metrics import r2_score\n",
    "from scipy import stats\n",
    "from scipy.stats import randint as sp_randint"
   ]
  },
  {
   "cell_type": "code",
   "execution_count": 22,
   "metadata": {},
   "outputs": [],
   "source": [
    "# utility function to report best scores\n",
    "def report(results, n_top=3):\n",
    "    for i in range(1, n_top + 1):\n",
    "        candidates = np.flatnonzero(results['rank_test_score'] == i)\n",
    "        for candidate in candidates:\n",
    "            print(\"Model with rank: {0}\".format(i))\n",
    "            print(\"Mean validation score: {0:.3f} (std: {1:.3f})\".format(\n",
    "                  results['mean_test_score'][candidate],\n",
    "                  results['std_test_score'][candidate]))\n",
    "            print(\"Parameters: {0}\".format(results['params'][candidate]))\n",
    "            print(\"\")"
   ]
  },
  {
   "cell_type": "code",
   "execution_count": 23,
   "metadata": {},
   "outputs": [
    {
     "name": "stdout",
     "output_type": "stream",
     "text": [
      "RandomizedSearchCV took 89.93 seconds for 20 candidates parameter settings.\n",
      "Model with rank: 1\n",
      "Mean validation score: -0.000 (std: 0.000)\n",
      "Parameters: {'C': 8430.669105102152, 'epsilon': 0.007974907332177594, 'gamma': 0.04877452580166796}\n",
      "\n",
      "Model with rank: 2\n",
      "Mean validation score: -0.000 (std: 0.000)\n",
      "Parameters: {'C': 7184.217693496103, 'epsilon': 0.009928446533689916, 'gamma': 0.06202313098768589}\n",
      "\n",
      "Model with rank: 3\n",
      "Mean validation score: -0.000 (std: 0.000)\n",
      "Parameters: {'C': 10015.900311504365, 'epsilon': 0.01238875539702794, 'gamma': 0.015753374693326317}\n",
      "\n"
     ]
    }
   ],
   "source": [
    "# train\n",
    "runSVR = False\n",
    "np.random.seed(52)\n",
    "n_iter = 20\n",
    "param_dist = {'C': stats.uniform(1000, 10000),\n",
    "             'gamma': stats.uniform(0.00001, 0.1),\n",
    "             'epsilon': stats.uniform(0.0001, 0.1)}\n",
    "if runSVR: # avoid running this line\n",
    "    svr = SVR()\n",
    "    random_search_svr = RandomizedSearchCV(svr, param_distributions=param_dist, n_iter=n_iter, scoring='neg_mean_squared_error')\n",
    "    start = time.time()\n",
    "    random_search_svr.fit(X_train, y_train)\n",
    "    elapsed_svr = (time.time() - start)\n",
    "    print(\"RandomizedSearchCV took %.2f seconds for %d candidates\"\n",
    "          \" parameter settings.\" % (elapsed_svr, n_iter))\n",
    "    report(random_search_svr.cv_results_)"
   ]
  },
  {
   "cell_type": "code",
   "execution_count": 24,
   "metadata": {
    "scrolled": false
   },
   "outputs": [
    {
     "name": "stdout",
     "output_type": "stream",
     "text": [
      "r2_score for training set: 0.9995643891603864\n"
     ]
    }
   ],
   "source": [
    "# test\n",
    "if runSVR:\n",
    "    best_svr = random_search_svr.best_estimator_\n",
    "else:\n",
    "    best_svr_param =  {'C': 8430.669105102152, 'epsilon': 0.007974907332177594, 'gamma': 0.04877452580166796}\n",
    "    best_svr = SVR(**best_svr_param) \n",
    "\n",
    "best_svr.fit(X_train, y_train)\n",
    "print('r2_score for training set:', r2_score(y_train, best_svr.predict(X_train)))\n",
    "svr_test_pred = {}\n",
    "for key, X in X_test.items():\n",
    "    svr_test_pred[key] = manual_descaling(best_svr.predict(X), stress_range)\n"
   ]
  },
  {
   "cell_type": "code",
   "execution_count": 25,
   "metadata": {},
   "outputs": [
    {
     "name": "stdout",
     "output_type": "stream",
     "text": [
      "r2_score for e2_iso: 0.9993026872744796\n",
      "r2_score for e1_iso: 0.9986671743055335\n"
     ]
    },
    {
     "data": {
      "image/png": "[encoded data removed]",
      "text/plain": [
       "<Figure size 1008x360 with 2 Axes>"
      ]
     },
     "metadata": {},
     "output_type": "display_data"
    }
   ],
   "source": [
    "# plot results\n",
    "plt.figure(figsize=(14,5))\n",
    "plt.subplot(1,2,1)\n",
    "plt.plot(df_e2_iso['Strain'][windows:], svr_test_pred['e2_iso'], label='SVR prediction', color='blue', alpha=1.0)\n",
    "plt.plot(df_e2_iso['Strain'], df_e2_iso['Stress'], label='1 x 10$^{-2}$ s$^{-1}$, 293 K, isothermal', color='red', alpha=1.0)\n",
    "plt.legend(loc=4)\n",
    "plt.xlabel('True strain, -')    #Name x label\n",
    "plt.ylabel('True stress, MPa')    #Name y label\n",
    "plt.xlim(xmin=0, xmax=0.25) # x-axis range\n",
    "#plt.xticks(np.linspace(0,0.2,5)) # x-axis range\n",
    "plt.ylim(ymin=100, ymax=700) # y-axis range\n",
    "print('r2_score for e2_iso:', r2_score(df_e2_iso['Stress'][windows:], svr_test_pred['e2_iso']))\n",
    "\n",
    "plt.subplot(1,2,2)\n",
    "plt.plot(df_e1_iso['Strain'][windows:], svr_test_pred['e1_iso'], label='SVR prediction', color='blue', alpha=1.0)\n",
    "plt.plot(df_e1_iso['Strain'], df_e1_iso['Stress'], label='1 x 10$^{-1}$ s$^{-1}$, 293 K, isothermal', color='red', alpha=1.0)\n",
    "plt.xlabel('True strain, -')    #Name x label\n",
    "plt.ylabel('True stress, MPa')    #Name y label\n",
    "plt.legend(loc=4)\n",
    "plt.xlim(xmin=0, xmax=0.25) # x-axis range\n",
    "#plt.xticks(np.linspace(0,0.2,5)) # x-axis range\n",
    "plt.ylim(ymin=100, ymax=700) # y-axis range\n",
    "print('r2_score for e1_iso:', r2_score(df_e1_iso['Stress'][windows:], svr_test_pred['e1_iso']))\n"
   ]
  },
  {
   "cell_type": "markdown",
   "metadata": {},
   "source": [
    "## ANN"
   ]
  },
  {
   "cell_type": "code",
   "execution_count": 26,
   "metadata": {},
   "outputs": [
    {
     "name": "stderr",
     "output_type": "stream",
     "text": [
      "C:\\ProgramData\\Anaconda3\\lib\\site-packages\\h5py\\__init__.py:36: FutureWarning: Conversion of the second argument of issubdtype from `float` to `np.floating` is deprecated. In future, it will be treated as `np.float64 == np.dtype(float).type`.\n",
      "  from ._conv import register_converters as _register_converters\n",
      "Using TensorFlow backend.\n"
     ]
    }
   ],
   "source": [
    "from keras.layers import Dense\n",
    "from keras.models import Sequential\n",
    "from keras.wrappers.scikit_learn import KerasRegressor\n",
    "from sklearn.model_selection import GridSearchCV"
   ]
  },
  {
   "cell_type": "code",
   "execution_count": 48,
   "metadata": {},
   "outputs": [],
   "source": [
    "def ANNmodel(hid_layers=[], in_dim=1, out_dim=1):\n",
    "    model = Sequential()\n",
    "    if len(hid_layers) == 0:\n",
    "        model.add(Dense(out_dim, input_dim=in_dim, activation='relu', kernel_initializer='normal'))\n",
    "    else:\n",
    "        model.add(Dense(hid_layers[0], input_dim=in_dim, activation='relu', kernel_initializer='normal'))\n",
    "        for layer in hid_layers:\n",
    "            model.add(Dense(layer, activation='relu'))\n",
    "        model.add(Dense(out_dim))\n",
    "    model.compile(loss='mean_squared_error', optimizer='adam')\n",
    "    return model\n",
    "\n",
    "def get_hid_layers(min_layers=0, max_layers=5, min_neurons=1, max_neurons=10, n_iter=1):\n",
    "    hid_layers = []\n",
    "    for _ in range(n_iter):\n",
    "        layers = np.random.randint(min_layers, max_layers)\n",
    "        hid_layers.append(np.random.randint(low=min_neurons, high=max_neurons, size=layers).tolist())\n",
    "    return hid_layers"
   ]
  },
  {
   "cell_type": "code",
   "execution_count": 28,
   "metadata": {
    "scrolled": true
   },
   "outputs": [
    {
     "name": "stdout",
     "output_type": "stream",
     "text": [
      "RandomizedSearchCV took 376.51 seconds for 20 candidates parameter settings.\n",
      "Model with rank: 1\n",
      "Mean validation score: -0.001 (std: 0.001)\n",
      "Parameters: {'hid_layers': [4]}\n",
      "\n",
      "Model with rank: 2\n",
      "Mean validation score: -0.001 (std: 0.001)\n",
      "Parameters: {'hid_layers': [9, 10, 19]}\n",
      "\n",
      "Model with rank: 3\n",
      "Mean validation score: -0.001 (std: 0.001)\n",
      "Parameters: {'hid_layers': [14, 8, 17, 15, 3]}\n",
      "\n"
     ]
    }
   ],
   "source": [
    "#train\n",
    "runANN = True\n",
    "np.random.seed(99)\n",
    "n_iter = 100\n",
    "param_dist = {'hid_layers': get_hid_layers(max_layers=10, min_neurons=1, max_neurons=20, n_iter=n_iter)}\n",
    "\n",
    "if runANN:\n",
    "    ann = KerasRegressor(build_fn=ANNmodel, in_dim=X_train.shape[1], epochs=50, batch_size=256, verbose=0)\n",
    "    random_search_ann = GridSearchCV(estimator=ann, param_grid=param_dist, scoring='neg_mean_squared_error')\n",
    "    start = time.time()\n",
    "    random_search_ann.fit(X_train, y_train)\n",
    "    elapsed_ann = (time.time() - start)\n",
    "    print(\"RandomizedSearchCV took %.2f seconds for %d candidates\"\n",
    "          \" parameter settings.\" % (elapsed_ann, n_iter))\n",
    "    report(random_search_ann.cv_results_)"
   ]
  },
  {
   "cell_type": "code",
   "execution_count": 29,
   "metadata": {},
   "outputs": [
    {
     "name": "stdout",
     "output_type": "stream",
     "text": [
      "r2_score for training set: 0.9988085822802238\n"
     ]
    }
   ],
   "source": [
    "# test\n",
    "if runANN:\n",
    "    best_ann = random_search_ann.best_estimator_\n",
    "else:\n",
    "    best_ann_param =  {'hid_layers': [4]} \n",
    "    best_ann = KerasRegressor(build_fn=ANNmodel, in_dim=X_train.shape[1], epochs=50, batch_size=256, **best_ann_param)\n",
    "\n",
    "best_ann.fit(X_train, y_train)\n",
    "print('r2_score for training set:', r2_score(y_train, best_ann.predict(X_train)))\n",
    "ann_test_pred = {}\n",
    "for key, X in X_test.items():\n",
    "    ann_test_pred[key] = manual_descaling(best_ann.predict(X), stress_range)"
   ]
  },
  {
   "cell_type": "code",
   "execution_count": 30,
   "metadata": {
    "scrolled": false
   },
   "outputs": [
    {
     "name": "stdout",
     "output_type": "stream",
     "text": [
      "r2_score for e2_iso: 0.9981496211248133\n",
      "r2_score for e1_iso: 0.9963323194282552\n"
     ]
    },
    {
     "data": {
      "image/png": "[encoded data removed]",
      "text/plain": [
       "<Figure size 1008x360 with 2 Axes>"
      ]
     },
     "metadata": {},
     "output_type": "display_data"
    }
   ],
   "source": [
    "# plot results\n",
    "plt.figure(figsize=(14,5))\n",
    "plt.subplot(1,2,1)\n",
    "plt.plot(df_e2_iso['Strain'][windows:], ann_test_pred['e2_iso'], label='ANN prediction', color='blue', alpha=1.0)\n",
    "plt.plot(df_e2_iso['Strain'], df_e2_iso['Stress'], label='1 x 10$^{-2}$ s$^{-1}$, 293 K, isothermal', color='red', alpha=1.0)\n",
    "plt.legend(loc=4)\n",
    "plt.xlabel('True strain, -')    #Name x label\n",
    "plt.ylabel('True stress, MPa')    #Name y label\n",
    "plt.xlim(xmin=0, xmax=0.25) # x-axis range\n",
    "#plt.xticks(np.linspace(0,0.2,5)) # x-axis range\n",
    "plt.ylim(ymin=100, ymax=700) # y-axis range\n",
    "print('r2_score for e2_iso:', r2_score(df_e2_iso['Stress'][windows:], ann_test_pred['e2_iso']))\n",
    "\n",
    "plt.subplot(1,2,2)\n",
    "plt.plot(df_e1_iso['Strain'][windows:], ann_test_pred['e1_iso'], label='ANN prediction', color='blue', alpha=1.0)\n",
    "plt.plot(df_e1_iso['Strain'], df_e1_iso['Stress'], label='1 x 10$^{-1}$ s$^{-1}$, 293 K, isothermal', color='red', alpha=1.0)\n",
    "plt.xlabel('True strain, -')    #Name x label\n",
    "plt.ylabel('True stress, MPa')    #Name y label\n",
    "plt.legend(loc=4)\n",
    "plt.xlim(xmin=0, xmax=0.25) # x-axis range\n",
    "#plt.xticks(np.linspace(0,0.2,5)) # x-axis range\n",
    "plt.ylim(ymin=100, ymax=700) # y-axis range\n",
    "print('r2_score for e1_iso:', r2_score(df_e1_iso['Stress'][windows:], ann_test_pred['e1_iso']))\n"
   ]
  },
  {
   "cell_type": "markdown",
   "metadata": {},
   "source": [
    "## Vanilla LSTM"
   ]
  },
  {
   "cell_type": "code",
   "execution_count": 31,
   "metadata": {},
   "outputs": [],
   "source": [
    "from keras.layers import LSTM"
   ]
  },
  {
   "cell_type": "code",
   "execution_count": 33,
   "metadata": {},
   "outputs": [],
   "source": [
    "def vLSTMmodel(input_shape, nNeurons=1, out_dim=1):\n",
    "    model = Sequential()\n",
    "    model.add(LSTM(nNeurons, input_shape=input_shape, activation='relu'))\n",
    "    model.add(Dense(out_dim))\n",
    "    model.compile(loss='mean_squared_error', optimizer='adam')\n",
    "    return model"
   ]
  },
  {
   "cell_type": "code",
   "execution_count": 40,
   "metadata": {
    "scrolled": false
   },
   "outputs": [
    {
     "name": "stdout",
     "output_type": "stream",
     "text": [
      "RandomizedSearchCV took 5037.60 seconds for 20 candidates parameter settings.\n",
      "Model with rank: 1\n",
      "Mean validation score: -0.002 (std: 0.003)\n",
      "Parameters: {'nNeurons': 121}\n",
      "\n",
      "Model with rank: 2\n",
      "Mean validation score: -0.003 (std: 0.005)\n",
      "Parameters: {'nNeurons': 124}\n",
      "\n",
      "Model with rank: 3\n",
      "Mean validation score: -0.004 (std: 0.005)\n",
      "Parameters: {'nNeurons': 145}\n",
      "\n"
     ]
    }
   ],
   "source": [
    "#train\n",
    "runLSTM = True\n",
    "np.random.seed(157)\n",
    "n_iter = 100\n",
    "param_dist = {'nNeurons': range(1, 200, 1)}\n",
    "X_train_lstm = np.reshape(X_train, (X_train.shape[0], 1, X_train.shape[1]))\n",
    "if runLSTM:\n",
    "    vlstm = KerasRegressor(build_fn=vLSTMmodel, input_shape=X_train_lstm.shape[1:], epochs=50,  verbose=0)\n",
    "    random_search_vlstm = RandomizedSearchCV(estimator=vlstm, param_distributions=param_dist, scoring='neg_mean_squared_error')\n",
    "    start = time.time()\n",
    "    random_search_vlstm.fit(X_train_lstm, y_train)\n",
    "    elapsed_lstm = (time.time() - start)\n",
    "    print(\"RandomizedSearchCV took %.2f seconds for %d candidates\"\n",
    "          \" parameter settings.\" % (elapsed_lstm, n_iter))\n",
    "    report(random_search_vlstm.cv_results_)"
   ]
  },
  {
   "cell_type": "code",
   "execution_count": 41,
   "metadata": {},
   "outputs": [
    {
     "name": "stdout",
     "output_type": "stream",
     "text": [
      "r2_score for training set: 0.999929005492944\n"
     ]
    }
   ],
   "source": [
    "# test\n",
    "if runLSTM:\n",
    "    best_vlstm = random_search_vlstm.best_estimator_\n",
    "else:\n",
    "    best_vlstm_param =  {'nNeurons': 121}\n",
    "    best_vlstm = KerasRegressor(build_fn=vLSTMmodel, input_shape=X_train_lstm.shape[1:], epochs=50,  verbose=0)\n",
    "\n",
    "best_vlstm.fit(X_train_lstm, y_train)\n",
    "print('r2_score for training set:', r2_score(y_train, best_vlstm.predict(X_train_lstm)))\n",
    "vlstm_test_pred = {}\n",
    "for key, X in X_test.items():\n",
    "    X = np.reshape(X, (X.shape[0], 1, X.shape[1]))\n",
    "    vlstm_test_pred[key] = manual_descaling(best_vlstm.predict(X), stress_range)"
   ]
  },
  {
   "cell_type": "code",
   "execution_count": 42,
   "metadata": {
    "scrolled": false
   },
   "outputs": [
    {
     "name": "stdout",
     "output_type": "stream",
     "text": [
      "r2_score for e2_iso: 0.9999876589820605\n",
      "r2_score for e1_iso: 0.999877929688926\n"
     ]
    },
    {
     "data": {
      "image/png": "[encoded data removed]",
      "text/plain": [
       "<Figure size 1008x360 with 2 Axes>"
      ]
     },
     "metadata": {},
     "output_type": "display_data"
    }
   ],
   "source": [
    "# plot results\n",
    "plt.figure(figsize=(14,5))\n",
    "plt.subplot(1,2,1)\n",
    "plt.plot(df_e2_iso['Strain'][windows:], vlstm_test_pred['e2_iso'], label='Vanilla LSTM prediction', color='blue', alpha=1.0)\n",
    "plt.plot(df_e2_iso['Strain'], df_e2_iso['Stress'], label='1 x 10$^{-2}$ s$^{-1}$, 293 K, isothermal', color='red', alpha=1.0)\n",
    "plt.legend(loc=4)\n",
    "plt.xlabel('True strain, -')    #Name x label\n",
    "plt.ylabel('True stress, MPa')    #Name y label\n",
    "plt.xlim(xmin=0, xmax=0.25) # x-axis range\n",
    "#plt.xticks(np.linspace(0,0.2,5)) # x-axis range\n",
    "plt.ylim(ymin=100, ymax=700) # y-axis range\n",
    "print('r2_score for e2_iso:', r2_score(df_e2_iso['Stress'][windows:], vlstm_test_pred['e2_iso']))\n",
    "\n",
    "plt.subplot(1,2,2)\n",
    "plt.plot(df_e1_iso['Strain'][windows:], vlstm_test_pred['e1_iso'], label='Vanilla LSTM prediction', color='blue', alpha=1.0)\n",
    "plt.plot(df_e1_iso['Strain'], df_e1_iso['Stress'], label='1 x 10$^{-1}$ s$^{-1}$, 293 K, isothermal', color='red', alpha=1.0)\n",
    "plt.xlabel('True strain, -')    #Name x label\n",
    "plt.ylabel('True stress, MPa')    #Name y label\n",
    "plt.legend(loc=4)\n",
    "plt.xlim(xmin=0, xmax=0.25) # x-axis range\n",
    "#plt.xticks(np.linspace(0,0.2,5)) # x-axis range\n",
    "plt.ylim(ymin=100, ymax=700) # y-axis range\n",
    "print('r2_score for e1_iso:', r2_score(df_e1_iso['Stress'][windows:], vlstm_test_pred['e1_iso']))\n"
   ]
  },
  {
   "cell_type": "markdown",
   "metadata": {},
   "source": [
    "## Free form viz"
   ]
  },
  {
   "cell_type": "code",
   "execution_count": 78,
   "metadata": {},
   "outputs": [
    {
     "name": "stderr",
     "output_type": "stream",
     "text": [
      "C:\\ProgramData\\Anaconda3\\lib\\site-packages\\matplotlib\\cbook\\deprecation.py:107: MatplotlibDeprecationWarning: Passing one of 'on', 'true', 'off', 'false' as a boolean is deprecated; use an actual boolean (True/False) instead.\n",
      "  warnings.warn(message, mplDeprecation, stacklevel=1)\n"
     ]
    },
    {
     "data": {
      "image/png": "[encoded data removed]",
      "text/plain": [
       "<Figure size 432x288 with 1 Axes>"
      ]
     },
     "metadata": {},
     "output_type": "display_data"
    }
   ],
   "source": [
    "name_list = ['SVR','ANN','LSTM']\n",
    "train_list = [r2_score(y_train, best_svr.predict(X_train)),\n",
    "              r2_score(y_train, best_ann.predict(X_train)),\n",
    "              r2_score(y_train, best_vlstm.predict(X_train_lstm))]\n",
    "test_list_e2 = [r2_score(df_e2_iso['Stress'][windows:], svr_test_pred['e2_iso']),\n",
    "                r2_score(df_e2_iso['Stress'][windows:], ann_test_pred['e2_iso']),\n",
    "                r2_score(df_e2_iso['Stress'][windows:], vlstm_test_pred['e2_iso'])]\n",
    "test_list_e1 = [r2_score(df_e1_iso['Stress'][windows:], svr_test_pred['e1_iso']),\n",
    "                r2_score(df_e1_iso['Stress'][windows:], ann_test_pred['e1_iso']),\n",
    "                r2_score(df_e1_iso['Stress'][windows:], vlstm_test_pred['e1_iso'])]\n",
    "x =list(range(len(train_list)))\n",
    "total_width, n = 0.8, 3\n",
    "width = total_width / n\n",
    " \n",
    "plt.bar(x, train_list, width=width, label='Training', fc = 'r')\n",
    "for i in range(len(x)):\n",
    "    x[i] = x[i] + width\n",
    "plt.bar(x, test_list_e2, width=width, label='Testing at 1 x 10$^{-2}$ s$^{-1}$ condition', tick_label = name_list, fc = 'b')\n",
    "for i in range(len(x)):\n",
    "    x[i] = x[i] + width\n",
    "plt.bar(x, test_list_e1, width=width, label='Testing at 1 x 10$^{-1}$ s$^{-1}$ condition', fc = 'g')\n",
    "plt.legend(loc='lower right')\n",
    "plt.ylabel('r2 score')\n",
    "plt.ylim(ymin=0.99,ymax=1.00) # x-axis range\n",
    "from pylab import *\n",
    "tick_params(bottom='off')\n",
    "plt.savefig('score.png',dpi=300)"
   ]
  },
  {
   "cell_type": "markdown",
   "metadata": {},
   "source": [
    "## Test with unknown data"
   ]
  },
  {
   "cell_type": "markdown",
   "metadata": {},
   "source": [
    "There is the last flow curves that was hidden in the dataset. This flow curve is the isothermal flow curve at 1 x 10$^{-2}$ s$^{-1}$ and 373 K. It was just introduced from here. Therefore, the models will never see it."
   ]
  },
  {
   "cell_type": "markdown",
   "metadata": {},
   "source": [
    "### Prediction"
   ]
  },
  {
   "cell_type": "code",
   "execution_count": 137,
   "metadata": {
    "scrolled": false
   },
   "outputs": [
    {
     "name": "stdout",
     "output_type": "stream",
     "text": [
      "r2_score for SVR: 0.9981330914841099\n"
     ]
    },
    {
     "data": {
      "image/png": "[encoded data removed]",
      "text/plain": [
       "<Figure size 432x288 with 1 Axes>"
      ]
     },
     "metadata": {},
     "output_type": "display_data"
    }
   ],
   "source": [
    "X_e2_373K = X_test['e2_373K']\n",
    "X_e2_373K_lstm = np.reshape(X_e2_373K, (X_e2_373K.shape[0], 1, X_e2_373K.shape[1]))\n",
    "\n",
    "svr_unknown_pred = manual_descaling(best_svr.predict(X_e2_373K), stress_range)\n",
    "ann_unknown_pred = manual_descaling(best_ann.predict(X_e2_373K), stress_range)\n",
    "vlstm_unknown_pred = manual_descaling(best_vlstm.predict(X_e2_373K_lstm), stress_range)\n",
    "\n",
    "# plot results\n",
    "# plt.figure(figsize=(21,5))\n",
    "# plt.subplot(1,3,1)\n",
    "plt.plot(df_e2_373K['Strain'][windows:], svr_unknown_pred, label='SVR prediction', color='blue', alpha=1.0)\n",
    "plt.plot(df_e2_373K['Strain'], df_e2_373K['Stress'], label='1 x 10$^{-2}$ s$^{-1}$, 373 K, isothermal', color='red', alpha=1.0)\n",
    "plt.legend(loc=4)\n",
    "plt.xlabel('True strain, -')    #Name x label\n",
    "plt.ylabel('True stress, MPa')    #Name y label\n",
    "plt.xlim(xmin=0, xmax=0.25) # x-axis range\n",
    "#plt.xticks(np.linspace(0,0.2,5)) # x-axis range\n",
    "plt.ylim(ymin=100, ymax=700) # y-axis range\n",
    "print('r2_score for SVR:', r2_score(df_e2_373K['Stress'][windows:], svr_unknown_pred))\n",
    "\n",
    "\n",
    "\n",
    "\n"
   ]
  },
  {
   "cell_type": "code",
   "execution_count": 136,
   "metadata": {},
   "outputs": [
    {
     "name": "stdout",
     "output_type": "stream",
     "text": [
      "r2_score for ANN: 0.9906781096348409\n"
     ]
    },
    {
     "data": {
      "image/png": "[encoded data removed]",
      "text/plain": [
       "<Figure size 432x288 with 1 Axes>"
      ]
     },
     "metadata": {},
     "output_type": "display_data"
    }
   ],
   "source": [
    "# plt.subplot(1,3,2)\n",
    "plt.plot(df_e2_373K['Strain'][windows:], ann_unknown_pred, label='ANN prediction', color='blue', alpha=1.0)\n",
    "plt.plot(df_e2_373K['Strain'], df_e2_373K['Stress'], label='1 x 10$^{-2}$ s$^{-1}$, 373 K, isothermal', color='red', alpha=1.0)\n",
    "plt.legend(loc=4)\n",
    "plt.xlabel('True strain, -')    #Name x label\n",
    "plt.ylabel('True stress, MPa')    #Name y label\n",
    "plt.xlim(xmin=0, xmax=0.25) # x-axis range\n",
    "#plt.xticks(np.linspace(0,0.2,5)) # x-axis range\n",
    "plt.ylim(ymin=100, ymax=700) # y-axis range\n",
    "print('r2_score for ANN:', r2_score(df_e2_373K['Stress'][windows:], ann_unknown_pred))"
   ]
  },
  {
   "cell_type": "code",
   "execution_count": 138,
   "metadata": {},
   "outputs": [
    {
     "name": "stdout",
     "output_type": "stream",
     "text": [
      "r2_score for LSTM: 0.9989572061736022\n"
     ]
    },
    {
     "data": {
      "image/png": "[encoded data removed]",
      "text/plain": [
       "<Figure size 432x288 with 1 Axes>"
      ]
     },
     "metadata": {},
     "output_type": "display_data"
    }
   ],
   "source": [
    "# plt.subplot(1,3,3)\n",
    "plt.plot(df_e2_373K['Strain'][windows:], vlstm_unknown_pred, label='LSTM prediction', color='blue', alpha=1.0)\n",
    "plt.plot(df_e2_373K['Strain'], df_e2_373K['Stress'], label='1 x 10$^{-2}$ s$^{-1}$, 373 K, isothermal', color='red', alpha=1.0)\n",
    "plt.legend(loc=4)\n",
    "plt.xlabel('True strain, -')    #Name x label\n",
    "plt.ylabel('True stress, MPa')    #Name y label\n",
    "plt.xlim(xmin=0, xmax=0.25) # x-axis range\n",
    "#plt.xticks(np.linspace(0,0.2,5)) # x-axis range\n",
    "plt.ylim(ymin=100, ymax=700) # y-axis range\n",
    "print('r2_score for LSTM:', r2_score(df_e2_373K['Stress'][windows:], vlstm_unknown_pred))"
   ]
  }
 ],
 "metadata": {
  "kernelspec": {
   "display_name": "Python 3",
   "language": "python",
   "name": "python3"
  },
  "language_info": {
   "codemirror_mode": {
    "name": "ipython",
    "version": 3
   },
   "file_extension": ".py",
   "mimetype": "text/x-python",
   "name": "python",
   "nbconvert_exporter": "python",
   "pygments_lexer": "ipython3",
   "version": "3.6.7"
  }
 },
 "nbformat": 4,
 "nbformat_minor": 2
}
